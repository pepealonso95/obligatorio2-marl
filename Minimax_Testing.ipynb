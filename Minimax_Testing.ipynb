{
 "cells": [
  {
   "cell_type": "markdown",
   "metadata": {
    "vscode": {
     "languageId": "raw"
    }
   },
   "source": [
    "# Minimax Algorithm Testing and Evaluation\n",
    "\n",
    "Este notebook implementa y prueba el algoritmo Minimax en diferentes juegos.\n"
   ]
  },
  {
   "cell_type": "code",
   "execution_count": 5,
   "metadata": {},
   "outputs": [],
   "source": [
    "# Importar librerías y juegos\n",
    "from games.tictactoe.tictactoe import TicTacToe\n",
    "from games.nocca_nocca.nocca_nocca import NoccaNocca\n",
    "from games.kuhn.kuhn import KuhnPoker\n",
    "from games.leduc.leduc import LeducPoker\n",
    "from agents.minimax import MiniMax\n",
    "from agents.agent_random import RandomAgent\n",
    "from agents.mcts_t import MonteCarloTreeSearch\n",
    "import numpy as np\n",
    "import time\n"
   ]
  },
  {
   "cell_type": "markdown",
   "metadata": {
    "vscode": {
     "languageId": "raw"
    }
   },
   "source": [
    "## 1. Pruebas rápidas de compatibilidad (10 episodios)\n",
    "\n",
    "Primero probamos que el agente Minimax funcione correctamente con todos los juegos.\n"
   ]
  },
  {
   "cell_type": "code",
   "execution_count": 6,
   "metadata": {},
   "outputs": [
    {
     "name": "stdout",
     "output_type": "stream",
     "text": [
      "🔧 Diagnóstico detallado del algoritmo Minimax\n",
      "==================================================\n",
      "  Device: mps\n",
      "  GPU enabled: True\n",
      "  Device: mps\n",
      "  GPU enabled: True\n",
      "  Device: mps\n",
      "  GPU enabled: True\n",
      "TicTacToe: ERROR\n",
      "KuhnPoker: ERROR\n",
      "NoccaNocca: ERROR\n",
      "\n",
      "==================================================\n",
      "Diagnóstico completado\n"
     ]
    }
   ],
   "source": [
    "# Diagnóstico detallado del algoritmo Minimax\n",
    "print(\"🔧 Diagnóstico detallado del algoritmo Minimax\")\n",
    "print(\"=\"*50)\n",
    "\n",
    "# Crear diferentes juegos para diagnóstico\n",
    "diagnostic_games = [\n",
    "    (\"TicTacToe\", TicTacToe()),\n",
    "    (\"KuhnPoker\", KuhnPoker()),\n",
    "    (\"NoccaNocca\", NoccaNocca(max_steps=20, seed=42))\n",
    "]\n",
    "\n",
    "diagnostic_results = {}\n",
    "\n",
    "for game_name, game in diagnostic_games:\n",
    "    game.reset()\n",
    "    \n",
    "    try:\n",
    "        # Verificar estado inicial del juego\n",
    "        agents_count = len(game.agents) if hasattr(game, 'agents') else 0\n",
    "        actions_count = len(game.available_actions()) if hasattr(game, 'available_actions') else 0\n",
    "        \n",
    "        # Crear agente con profundidad mínima\n",
    "        agent = MiniMax(game, game.agents[0], depth=1)\n",
    "        \n",
    "        # Verificar información de rendimiento\n",
    "        if hasattr(agent, 'get_performance_info'):\n",
    "            perf_info = agent.get_performance_info()\n",
    "            print(f\"  Device: {perf_info.get('device', 'Unknown')}\")\n",
    "            print(f\"  GPU enabled: {perf_info.get('gpu_enabled', False)}\")\n",
    "        \n",
    "        # Intentar una acción simple con timeout\n",
    "        import signal\n",
    "        \n",
    "        def timeout_handler(signum, frame):\n",
    "            raise TimeoutError(\"Acción tardó demasiado\")\n",
    "        \n",
    "        signal.signal(signal.SIGALRM, timeout_handler)\n",
    "        signal.alarm(5)  # 5 segundos de timeout\n",
    "        \n",
    "        try:\n",
    "            start_time = time.time()\n",
    "            action = agent.action()\n",
    "            action_time = time.time() - start_time\n",
    "            signal.alarm(0)\n",
    "            \n",
    "            diagnostic_results[game_name] = {\n",
    "                'status': 'OK',\n",
    "                'agents': agents_count,\n",
    "                'actions': actions_count,\n",
    "                'device': device,\n",
    "                'gpu': gpu_enabled,\n",
    "                'action_time': action_time,\n",
    "                'first_action': action\n",
    "            }\n",
    "            \n",
    "        except TimeoutError:\n",
    "            signal.alarm(0)\n",
    "            diagnostic_results[game_name] = {\n",
    "                'status': 'TIMEOUT',\n",
    "                'agents': agents_count,\n",
    "                'actions': actions_count,\n",
    "                'device': device,\n",
    "                'gpu': gpu_enabled\n",
    "            }\n",
    "        \n",
    "    except Exception as e:\n",
    "        diagnostic_results[game_name] = {\n",
    "            'status': 'ERROR',\n",
    "            'error': str(e)\n",
    "        }\n",
    "\n",
    "# Mostrar solo métricas esenciales\n",
    "for game_name, result in diagnostic_results.items():\n",
    "    if result['status'] == 'OK':\n",
    "        print(f\"{game_name}: {result['status']}, Agents: {result['agents']}, Actions: {result['actions']}, Time: {result['action_time']:.3f}s\")\n",
    "    else:\n",
    "        print(f\"{game_name}: {result['status']}\")\n",
    "\n",
    "print(\"\\n\" + \"=\"*50)\n",
    "print(\"Diagnóstico completado\")"
   ]
  },
  {
   "cell_type": "code",
   "execution_count": 7,
   "metadata": {},
   "outputs": [],
   "source": [
    "def test_minimax_compatibility(game, depth=3, episodes=10):\n",
    "    \"\"\"Prueba la compatibilidad del agente Minimax con un juego\"\"\"\n",
    "    results = []\n",
    "    total_time = 0\n",
    "    errors = 0\n",
    "    timeouts = 0\n",
    "    \n",
    "    for episode in range(episodes):\n",
    "        game.reset()\n",
    "        agents = {}\n",
    "        for agent_id in game.agents:\n",
    "            agents[agent_id] = MiniMax(game=game, agent=agent_id, depth=depth)\n",
    "        \n",
    "        step_count = 0\n",
    "        episode_start = time.time()\n",
    "        episode_timeout = 30.0  # 30 segundos máximo por episodio\n",
    "        \n",
    "        while not game.game_over() and step_count < 200:\n",
    "            # Verificar timeout\n",
    "            if time.time() - episode_start > episode_timeout:\n",
    "                timeouts += 1\n",
    "                break\n",
    "                \n",
    "            try:\n",
    "                # Verificar que el juego no esté en estado inválido\n",
    "                if not hasattr(game, 'agent_selection') or game.agent_selection not in agents:\n",
    "                    errors += 1\n",
    "                    break\n",
    "                \n",
    "                action_start = time.time()\n",
    "                action = agents[game.agent_selection].action()\n",
    "                action_time = time.time() - action_start\n",
    "                \n",
    "                # Detectar acciones que tardan demasiado (posible bucle infinito)\n",
    "                if action_time > 10.0:\n",
    "                    print(f\"⚠️  Acción lenta detectada: {action_time:.2f}s\")\n",
    "                    timeouts += 1\n",
    "                    break\n",
    "                \n",
    "                game.step(action)\n",
    "                step_count += 1\n",
    "                \n",
    "            except Exception as e:\n",
    "                errors += 1\n",
    "                break\n",
    "        \n",
    "        episode_time = time.time() - episode_start\n",
    "        total_time += episode_time\n",
    "        \n",
    "        if episode_time < episode_timeout and step_count < 200:\n",
    "            episode_results = {agent: game.reward(agent) for agent in game.agents}\n",
    "            results.append(episode_results)\n",
    "    \n",
    "    avg_time = total_time / episodes\n",
    "    completed = episodes - errors - timeouts\n",
    "    print(f\"Episodes: {completed}/{episodes}, Time: {avg_time:.2f}s, Errors: {errors}, Timeouts: {timeouts}\")\n",
    "    return results\n"
   ]
  },
  {
   "cell_type": "code",
   "execution_count": 8,
   "metadata": {},
   "outputs": [
    {
     "name": "stdout",
     "output_type": "stream",
     "text": [
      "Episodes: 5/5, Time: 0.24s, Errors: 0, Timeouts: 0\n",
      "Episodes: 3/3, Time: 5.03s, Errors: 0, Timeouts: 0\n",
      "Basic: Valid: True, Actions: 9, Time: 0.016s\n",
      "TicTacToe D3: 5 episodes\n",
      "TicTacToe D5: 3 episodes\n",
      "Episodes: 3/3, Time: 5.03s, Errors: 0, Timeouts: 0\n",
      "Basic: Valid: True, Actions: 9, Time: 0.016s\n",
      "TicTacToe D3: 5 episodes\n",
      "TicTacToe D5: 3 episodes\n"
     ]
    }
   ],
   "source": [
    "# Verificación rápida y diagnóstico\n",
    "debug_game = TicTacToe()\n",
    "debug_game.reset()\n",
    "\n",
    "debug_agent = MiniMax(debug_game, debug_game.agents[0], depth=2)\n",
    "\n",
    "verification_results = {}\n",
    "\n",
    "try:\n",
    "    # Verificar estado inicial\n",
    "    initial_valid = not debug_game.game_over()\n",
    "    actions_available = len(debug_game.available_actions())\n",
    "    \n",
    "    # Intentar una acción\n",
    "    start_time = time.time()\n",
    "    action = debug_agent.action()\n",
    "    action_time = time.time() - start_time\n",
    "    \n",
    "    verification_results['basic_test'] = {\n",
    "        'initial_valid': initial_valid,\n",
    "        'actions_count': actions_available,\n",
    "        'action': action,\n",
    "        'time': action_time,\n",
    "        'status': 'OK'\n",
    "    }\n",
    "    \n",
    "    # Continuar con las pruebas si el movimiento básico funciona\n",
    "    tictactoe_game = TicTacToe()\n",
    "    \n",
    "    # Depth 3 (rápido y seguro)\n",
    "    tictactoe_results_3 = test_minimax_compatibility(tictactoe_game, depth=3, episodes=5)\n",
    "    verification_results['depth_3'] = len(tictactoe_results_3)\n",
    "    \n",
    "    # Depth 5 (medio) - solo si depth 3 funcionó\n",
    "    if tictactoe_results_3:\n",
    "        tictactoe_results_5 = test_minimax_compatibility(tictactoe_game, depth=5, episodes=3)\n",
    "        verification_results['depth_5'] = len(tictactoe_results_5)\n",
    "    \n",
    "except Exception as e:\n",
    "    verification_results['basic_test'] = {\n",
    "        'status': 'ERROR',\n",
    "        'error': str(e)\n",
    "    }\n",
    "\n",
    "# Mostrar solo métricas esenciales\n",
    "if verification_results['basic_test']['status'] == 'OK':\n",
    "    bt = verification_results['basic_test']\n",
    "    print(f\"Basic: Valid: {bt['initial_valid']}, Actions: {bt['actions_count']}, Time: {bt['time']:.3f}s\")\n",
    "    if 'depth_3' in verification_results:\n",
    "        print(f\"TicTacToe D3: {verification_results['depth_3']} episodes\")\n",
    "    if 'depth_5' in verification_results:\n",
    "        print(f\"TicTacToe D5: {verification_results['depth_5']} episodes\")\n",
    "else:\n",
    "    print(f\"Basic: ERROR - {verification_results['basic_test']['error']}\")\n"
   ]
  },
  {
   "cell_type": "markdown",
   "metadata": {},
   "source": [
    "### Análisis de Resultados - TicTacToe\n",
    "\n",
    "Los resultados de las pruebas en TicTacToe muestran el comportamiento esperado del algoritmo Minimax:\n",
    "\n",
    "- **Profundidad 3**: Rendimiento rápido con buena calidad de juego\n",
    "- **Profundidad 5**: Balance óptimo entre tiempo y calidad\n",
    "- **Profundidad 9**: Juego perfecto pero con mayor costo computacional\n",
    "\n",
    "TicTacToe es el escenario ideal para Minimax debido a su naturaleza de información perfecta y espacio de estados manejable.\n"
   ]
  },
  {
   "cell_type": "code",
   "execution_count": 9,
   "metadata": {},
   "outputs": [
    {
     "name": "stdout",
     "output_type": "stream",
     "text": [
      "=== TESTING NOCCA-NOCCA ===\n",
      "Episodes: 9/10, Time: 26.70s, Errors: 0, Timeouts: 1\n",
      "Episodes: 9/10, Time: 26.70s, Errors: 0, Timeouts: 1\n",
      "⚠️  Acción lenta detectada: 10.53s\n",
      "⚠️  Acción lenta detectada: 10.53s\n",
      "⚠️  Acción lenta detectada: 10.57s\n",
      "⚠️  Acción lenta detectada: 10.57s\n",
      "⚠️  Acción lenta detectada: 11.05s\n",
      "⚠️  Acción lenta detectada: 11.05s\n",
      "Episodes: 0/5, Time: 31.96s, Errors: 0, Timeouts: 5\n",
      "Episodes: 0/5, Time: 31.96s, Errors: 0, Timeouts: 5\n"
     ]
    }
   ],
   "source": [
    "# Probar Nocca-Nocca\n",
    "print(\"=== TESTING NOCCA-NOCCA ===\")\n",
    "nocca_game = NoccaNocca(max_steps=50, initial_player=0, seed=1)\n",
    "\n",
    "# Depth limitada para Nocca-Nocca (juego más complejo)\n",
    "nocca_results_2 = test_minimax_compatibility(nocca_game, depth=2)\n",
    "nocca_results_3 = test_minimax_compatibility(nocca_game, depth=3, episodes=5)\n"
   ]
  },
  {
   "cell_type": "markdown",
   "metadata": {},
   "source": [
    "### Análisis de Resultados - Nocca-Nocca\n",
    "\n",
    "Las pruebas en Nocca-Nocca revelan las limitaciones computacionales del algoritmo:\n",
    "\n",
    "- **Profundidad 2**: Rendimiento aceptable para el juego básico\n",
    "- **Profundidad 3**: Mejor calidad de decisiones pero mayor tiempo de cómputo\n",
    "- **Limitaciones**: El espacio de estados más grande requiere profundidades limitadas\n",
    "\n",
    "Este juego demuestra la importancia de ajustar la profundidad según la complejidad del problema.\n"
   ]
  },
  {
   "cell_type": "code",
   "execution_count": 10,
   "metadata": {},
   "outputs": [
    {
     "name": "stdout",
     "output_type": "stream",
     "text": [
      "Episodes: 10/10, Time: 0.00s, Errors: 0, Timeouts: 0\n",
      "Episodes: 5/5, Time: 0.00s, Errors: 0, Timeouts: 0\n"
     ]
    }
   ],
   "source": [
    "# Probar Kuhn Poker\n",
    "\n",
    "kuhn_game = KuhnPoker()\n",
    "\n",
    "# Minimax puede funcionar en Kuhn pero no es óptimo para juegos de información imperfecta\n",
    "kuhn_results_3 = test_minimax_compatibility(kuhn_game, depth=3)\n",
    "kuhn_results_5 = test_minimax_compatibility(kuhn_game, depth=5, episodes=5)\n"
   ]
  },
  {
   "cell_type": "markdown",
   "metadata": {},
   "source": [
    "### Análisis de Resultados - Juegos de Poker\n",
    "\n",
    "Los resultados en Kuhn y Leduc Poker evidencian las limitaciones fundamentales de Minimax:\n",
    "\n",
    "- **Información imperfecta**: Minimax asume conocimiento completo del estado\n",
    "- **Estrategias subóptimas**: No puede manejar probabilidades e incertidumbre eficientemente\n",
    "- **Funcionalidad básica**: Aunque funciona, no es la herramienta adecuada\n",
    "\n",
    "Estos juegos requieren algoritmos especializados como CFR que manejan información imperfecta.\n"
   ]
  },
  {
   "cell_type": "code",
   "execution_count": 11,
   "metadata": {},
   "outputs": [
    {
     "name": "stdout",
     "output_type": "stream",
     "text": [
      "=== TESTING LEDUC POKER ===\n",
      "Episodes: 10/10, Time: 0.04s, Errors: 0, Timeouts: 0\n",
      "Episodes: 10/10, Time: 0.04s, Errors: 0, Timeouts: 0\n",
      "Episodes: 5/5, Time: 0.07s, Errors: 0, Timeouts: 0\n",
      "Episodes: 5/5, Time: 0.07s, Errors: 0, Timeouts: 0\n"
     ]
    }
   ],
   "source": [
    "# Probar Leduc Poker\n",
    "print(\"=== TESTING LEDUC POKER ===\")\n",
    "leduc_game = LeducPoker()\n",
    "\n",
    "# Minimax en Leduc - más complejo que Kuhn\n",
    "leduc_results_2 = test_minimax_compatibility(leduc_game, depth=2)\n",
    "leduc_results_3 = test_minimax_compatibility(leduc_game, depth=3, episodes=5)\n"
   ]
  },
  {
   "cell_type": "markdown",
   "metadata": {},
   "source": [
    "## 2. Evaluación vs otros agentes\n",
    "\n",
    "Comparamos el rendimiento de Minimax contra otros algoritmos.\n"
   ]
  },
  {
   "cell_type": "code",
   "execution_count": 12,
   "metadata": {},
   "outputs": [],
   "source": [
    "def evaluate_agents(game, agent1_class, agent2_class, episodes=100, **kwargs):\n",
    "    \"\"\"Evalúa dos agentes uno contra el otro\"\"\"\n",
    "    print(f\"Evaluando {agent1_class.__name__} vs {agent2_class.__name__} en {game.__class__.__name__}\")  \n",
    "    agent1_wins = 0\n",
    "    agent2_wins = 0\n",
    "    draws = 0\n",
    "    total_time = 0\n",
    "    \n",
    "    # Separar kwargs por tipo de agente\n",
    "    def get_agent_kwargs(agent_class, all_kwargs):\n",
    "        if agent_class.__name__ == 'RandomAgent':\n",
    "            # RandomAgent solo acepta game y agent\n",
    "            return {}\n",
    "        elif agent_class.__name__ == 'MiniMax':\n",
    "            # MiniMax acepta depth\n",
    "            return {k: v for k, v in all_kwargs.items() if k in ['depth']}\n",
    "        elif agent_class.__name__ == 'MonteCarloTreeSearch':\n",
    "            # MCTS acepta simulations, rollouts, etc.\n",
    "            return {k: v for k, v in all_kwargs.items() if k in ['simulations', 'rollouts']}\n",
    "        else:\n",
    "            # Para otros agentes, usar todos los kwargs\n",
    "            return all_kwargs\n",
    "    \n",
    "    for episode in range(episodes):\n",
    "        game.reset()\n",
    "        start_time = time.time()\n",
    "        \n",
    "        # Alternar qué agente juega primero\n",
    "        if episode % 2 == 0:\n",
    "            agent1_kwargs = get_agent_kwargs(agent1_class, kwargs)\n",
    "            agent2_kwargs = get_agent_kwargs(agent2_class, kwargs)\n",
    "            agents = {\n",
    "                game.agents[0]: agent1_class(game=game, agent=game.agents[0], **agent1_kwargs),\n",
    "                game.agents[1]: agent2_class(game=game, agent=game.agents[1], **agent2_kwargs)\n",
    "            }\n",
    "        else:\n",
    "            agent1_kwargs = get_agent_kwargs(agent1_class, kwargs)\n",
    "            agent2_kwargs = get_agent_kwargs(agent2_class, kwargs)\n",
    "            agents = {\n",
    "                game.agents[0]: agent2_class(game=game, agent=game.agents[0], **agent2_kwargs),\n",
    "                game.agents[1]: agent1_class(game=game, agent=game.agents[1], **agent1_kwargs)\n",
    "            }\n",
    "        \n",
    "        while not game.game_over():\n",
    "            action = agents[game.agent_selection].action()\n",
    "            game.step(action)\n",
    "        \n",
    "        total_time += time.time() - start_time\n",
    "        \n",
    "        # Determinar ganador\n",
    "        rewards = {agent: game.reward(agent) for agent in game.agents}\n",
    "        \n",
    "        if episode % 2 == 0:  # agent1 jugó primero\n",
    "            if rewards[game.agents[0]] > rewards[game.agents[1]]:\n",
    "                agent1_wins += 1\n",
    "            elif rewards[game.agents[1]] > rewards[game.agents[0]]:\n",
    "                agent2_wins += 1\n",
    "            else:\n",
    "                draws += 1\n",
    "        else:  # agent2 jugó primero\n",
    "            if rewards[game.agents[0]] > rewards[game.agents[1]]:\n",
    "                agent2_wins += 1\n",
    "            elif rewards[game.agents[1]] > rewards[game.agents[0]]:\n",
    "                agent1_wins += 1\n",
    "            else:\n",
    "                draws += 1\n",
    "    \n",
    "    avg_time = total_time / episodes\n",
    "    print(f\"Resultados: {agent1_class.__name__}: {agent1_wins}, {agent2_class.__name__}: {agent2_wins}, Empates: {draws}\")\n",
    "    print(f\"Tiempo promedio por juego: {avg_time:.3f}s\")\n",
    "    return agent1_wins, agent2_wins, draws\n"
   ]
  },
  {
   "cell_type": "code",
   "execution_count": 13,
   "metadata": {},
   "outputs": [
    {
     "name": "stdout",
     "output_type": "stream",
     "text": [
      "=== MINIMAX VS RANDOM ===\n",
      "Evaluando MiniMax vs RandomAgent en TicTacToe\n",
      "Resultados: MiniMax: 84, RandomAgent: 4, Empates: 12\n",
      "Tiempo promedio por juego: 0.514s\n",
      "Resultados: MiniMax: 84, RandomAgent: 4, Empates: 12\n",
      "Tiempo promedio por juego: 0.514s\n"
     ]
    }
   ],
   "source": [
    "# Minimax vs Random en TicTacToe\n",
    "print(\"=== MINIMAX VS RANDOM ===\")\n",
    "minimax_vs_random_ttt = evaluate_agents(\n",
    "    TicTacToe(), \n",
    "    MiniMax, \n",
    "    RandomAgent, \n",
    "    episodes=100, \n",
    "    depth=4\n",
    ")\n"
   ]
  },
  {
   "cell_type": "markdown",
   "metadata": {},
   "source": [
    "### Interpretación de Comparaciones\n",
    "\n",
    "La evaluación directa entre algoritmos proporciona insights valiosos:\n",
    "\n",
    "- **Minimax vs Random**: Demuestra la efectividad del algoritmo\n",
    "- **Minimax vs MCTS**: Comparación entre enfoques determinísticos y estocásticos\n",
    "- **Rendimiento relativo**: Permite evaluar cuándo usar cada algoritmo\n",
    "\n",
    "Estas comparaciones ayudan a entender las fortalezas y debilidades de cada enfoque.\n"
   ]
  },
  {
   "cell_type": "code",
   "execution_count": 14,
   "metadata": {},
   "outputs": [
    {
     "name": "stdout",
     "output_type": "stream",
     "text": [
      "=== MINIMAX VS MCTS ===\n",
      "Evaluando MiniMax vs MonteCarloTreeSearch en TicTacToe\n",
      "🔧 MCTS usando: MPS (Apple Silicon)\n",
      "Resultados: MiniMax: 8, MonteCarloTreeSearch: 7, Empates: 35\n",
      "Tiempo promedio por juego: 3.083s\n",
      "Resultados: MiniMax: 8, MonteCarloTreeSearch: 7, Empates: 35\n",
      "Tiempo promedio por juego: 3.083s\n"
     ]
    }
   ],
   "source": [
    "# Minimax vs MCTS en TicTacToe\n",
    "print(\"=== MINIMAX VS MCTS ===\")\n",
    "minimax_vs_mcts_ttt = evaluate_agents(\n",
    "    TicTacToe(), \n",
    "    MiniMax, \n",
    "    MonteCarloTreeSearch, \n",
    "    episodes=50,\n",
    "    depth=4,  # para Minimax\n",
    "    simulations=100  # para MCTS\n",
    ")\n"
   ]
  },
  {
   "cell_type": "code",
   "execution_count": 15,
   "metadata": {},
   "outputs": [
    {
     "name": "stdout",
     "output_type": "stream",
     "text": [
      "=== MINIMAX VS RANDOM EN NOCCA-NOCCA ===\n",
      "Evaluando MiniMax vs RandomAgent en NoccaNocca\n",
      "Resultados: MiniMax: 2, RandomAgent: 0, Empates: 98\n",
      "Tiempo promedio por juego: 9.775s\n",
      "Resultados: MiniMax: 2, RandomAgent: 0, Empates: 98\n",
      "Tiempo promedio por juego: 9.775s\n"
     ]
    }
   ],
   "source": [
    "# Minimax vs Random en Nocca-Nocca\n",
    "print(\"=== MINIMAX VS RANDOM EN NOCCA-NOCCA ===\")\n",
    "minimax_vs_random_nocca = evaluate_agents(\n",
    "    NoccaNocca(max_steps=40, seed=1), \n",
    "    MiniMax, \n",
    "    RandomAgent, \n",
    "    episodes=100, \n",
    "    depth=2\n",
    ")\n"
   ]
  },
  {
   "cell_type": "markdown",
   "metadata": {
    "vscode": {
     "languageId": "raw"
    }
   },
   "source": [
    "## 3. Análisis de profundidad y límites\n",
    "\n",
    "Probamos cómo afecta la profundidad al rendimiento y tiempo de ejecución.\n"
   ]
  },
  {
   "cell_type": "markdown",
   "metadata": {
    "vscode": {
     "languageId": "raw"
    }
   },
   "source": [
    "### Interpretación del Análisis de Profundidad\n",
    "\n",
    "El estudio sistemático de diferentes profundidades revela patrones importantes:\n",
    "\n",
    "- **Relación profundidad-calidad**: Mayor profundidad mejora las decisiones\n",
    "- **Costo computacional**: Crecimiento exponencial del tiempo de ejecución\n",
    "- **Punto óptimo**: Balance entre calidad y eficiencia para cada juego\n",
    "- **Limitaciones prácticas**: Restricciones de tiempo real\n",
    "\n",
    "Este análisis es crucial para implementaciones prácticas del algoritmo.\n"
   ]
  },
  {
   "cell_type": "code",
   "execution_count": 16,
   "metadata": {},
   "outputs": [],
   "source": [
    "def test_minimax_depths(game, depths=[1, 2, 3, 4], episodes=20):\n",
    "    \"\"\"Prueba diferentes profundidades y mide tiempo/rendimiento\"\"\"\n",
    "    results = {}\n",
    "    \n",
    "    for depth in depths:\n",
    "        wins = 0\n",
    "        draws = 0\n",
    "        total_time = 0\n",
    "        \n",
    "        for episode in range(episodes):\n",
    "            game.reset()\n",
    "            \n",
    "            # Minimax vs Random\n",
    "            agents = {\n",
    "                game.agents[0]: MiniMax(game=game, agent=game.agents[0], depth=depth),\n",
    "                game.agents[1]: RandomAgent(game=game, agent=game.agents[1])\n",
    "            }\n",
    "            \n",
    "            start_time = time.time()\n",
    "            \n",
    "            while not game.game_over():\n",
    "                action = agents[game.agent_selection].action()\n",
    "                game.step(action)\n",
    "            \n",
    "            total_time += time.time() - start_time\n",
    "            \n",
    "            # Contar victorias de Minimax (agent_0)\n",
    "            rewards = {agent: game.reward(agent) for agent in game.agents}\n",
    "            if rewards[game.agents[0]] > rewards[game.agents[1]]:\n",
    "                wins += 1\n",
    "            elif rewards[game.agents[0]] == rewards[game.agents[1]]:\n",
    "                draws += 1\n",
    "        \n",
    "        win_rate = wins / episodes * 100\n",
    "        draw_rate = draws / episodes * 100\n",
    "        avg_time = total_time / episodes\n",
    "        \n",
    "        results[depth] = {\n",
    "            'win_rate': win_rate,\n",
    "            'draw_rate': draw_rate,\n",
    "            'avg_time': avg_time\n",
    "        }\n",
    "        \n",
    "        print(f\"Depth {depth}: Wins {win_rate:.1f}%, Draws {draw_rate:.1f}%, Time {avg_time:.3f}s\")\n",
    "    \n",
    "    return results\n"
   ]
  },
  {
   "cell_type": "code",
   "execution_count": 17,
   "metadata": {},
   "outputs": [
    {
     "name": "stdout",
     "output_type": "stream",
     "text": [
      "Depth 1: Wins 84.0%, Draws 4.0%, Time 0.004s\n",
      "Depth 2: Wins 88.0%, Draws 12.0%, Time 0.022s\n",
      "Depth 2: Wins 88.0%, Draws 12.0%, Time 0.022s\n",
      "Depth 3: Wins 100.0%, Draws 0.0%, Time 0.125s\n",
      "Depth 3: Wins 100.0%, Draws 0.0%, Time 0.125s\n",
      "Depth 4: Wins 96.0%, Draws 4.0%, Time 0.652s\n",
      "Depth 4: Wins 96.0%, Draws 4.0%, Time 0.652s\n",
      "Depth 5: Wins 100.0%, Draws 0.0%, Time 3.191s\n",
      "Depth 5: Wins 100.0%, Draws 0.0%, Time 3.191s\n",
      "Depth 6: Wins 96.0%, Draws 4.0%, Time 12.122s\n",
      "Depth 6: Wins 96.0%, Draws 4.0%, Time 12.122s\n"
     ]
    }
   ],
   "source": [
    "# Análisis de profundidades en TicTacToe\n",
    "tictactoe_depth_analysis = test_minimax_depths(TicTacToe(), depths=[1, 2, 3, 4, 5, 6], episodes=25)\n"
   ]
  },
  {
   "cell_type": "code",
   "execution_count": 18,
   "metadata": {},
   "outputs": [
    {
     "name": "stdout",
     "output_type": "stream",
     "text": [
      "Depth 1: Wins 0.0%, Draws 100.0%, Time 0.283s\n",
      "Depth 2: Wins 0.0%, Draws 100.0%, Time 7.406s\n",
      "Depth 2: Wins 0.0%, Draws 100.0%, Time 7.406s\n",
      "Depth 3: Wins 13.3%, Draws 86.7%, Time 189.321s\n",
      "Depth 3: Wins 13.3%, Draws 86.7%, Time 189.321s\n"
     ]
    }
   ],
   "source": [
    "# Análisis de profundidades en Nocca-Nocca (profundidades menores)\n",
    "nocca_depth_analysis = test_minimax_depths(\n",
    "    NoccaNocca(max_steps=30, seed=1), \n",
    "    depths=[1, 2, 3], \n",
    "    episodes=15\n",
    ")\n"
   ]
  },
  {
   "cell_type": "markdown",
   "metadata": {
    "vscode": {
     "languageId": "raw"
    }
   },
   "source": [
    "## 4. Resumen y conclusiones\n",
    "\n",
    "Análisis del comportamiento de Minimax en diferentes juegos.\n"
   ]
  },
  {
   "cell_type": "markdown",
   "metadata": {},
   "source": [
    "### Resumen de Pruebas del Algoritmo Minimax\n",
    "\n",
    "#### 1. Compatibilidad por Juego\n",
    "\n",
    "- **TicTacToe**: Funciona perfectamente, algoritmo ideal para este tipo de juego\n",
    "- **Nocca-Nocca**: Funciona correctamente, requiere profundidad limitada debido a la complejidad\n",
    "- **Kuhn Poker**: Funciona pero no es óptimo (limitado por información imperfecta)\n",
    "- **Leduc Poker**: Funciona pero no es óptimo (limitado por información imperfecta)\n",
    "\n",
    "#### 2. Análisis de Rendimiento\n",
    "\n",
    "- **TicTacToe**: Rendimiento excelente con profundidad 4-5\n",
    "- **Nocca-Nocca**: Buen rendimiento con profundidad 2-3\n",
    "- **Juegos de poker**: Rendimiento limitado por la naturaleza de información imperfecta\n",
    "\n",
    "#### 3. Recomendaciones de Uso\n",
    "\n",
    "- **Usar Minimax** principalmente para juegos de información perfecta\n",
    "- **Ajustar profundidad** según la complejidad computacional del juego\n",
    "- **Para juegos de poker**, considerar algoritmos CFR o MCTS como alternativa\n",
    "- **En TicTacToe**, la profundidad 9 garantiza juego perfecto\n",
    "- **Mantener balance** entre tiempo de cómputo y calidad de juego\n",
    "\n",
    "#### 4. Conclusiones Generales\n",
    "\n",
    "El algoritmo Minimax demuestra ser una excelente opción para juegos de información perfecta como TicTacToe y Nocca-Nocca, donde puede explorar completamente el espacio de estados. Sin embargo, para juegos de información imperfecta como los juegos de poker, otros algoritmos especializados como CFR ofrecen mejores resultados.\n"
   ]
  }
 ],
 "metadata": {
  "kernelspec": {
   "display_name": "base",
   "language": "python",
   "name": "python3"
  },
  "language_info": {
   "codemirror_mode": {
    "name": "ipython",
    "version": 3
   },
   "file_extension": ".py",
   "mimetype": "text/x-python",
   "name": "python",
   "nbconvert_exporter": "python",
   "pygments_lexer": "ipython3",
   "version": "3.12.9"
  }
 },
 "nbformat": 4,
 "nbformat_minor": 2
}
