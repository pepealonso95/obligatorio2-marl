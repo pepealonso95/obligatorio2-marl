{
 "cells": [
  {
   "cell_type": "code",
   "execution_count": 1,
   "metadata": {},
   "outputs": [],
   "source": [
    "from games.tictactoe.tictactoe import TicTacToe\n",
    "from agents.agent_random import RandomAgent\n",
    "from agents.minimax import MiniMax\n",
    "import numpy as np\n",
    "from collections import defaultdict"
   ]
  },
  {
   "cell_type": "code",
   "execution_count": 2,
   "metadata": {},
   "outputs": [],
   "source": [
    "game = TicTacToe(render_mode='')"
   ]
  },
  {
   "cell_type": "code",
   "execution_count": 3,
   "metadata": {},
   "outputs": [
    {
     "data": {
      "text/plain": [
       "{'X': <agents.agent_random.RandomAgent at 0x1100e9450>,\n",
       " 'O': <agents.agent_random.RandomAgent at 0x1100e9a90>}"
      ]
     },
     "execution_count": 3,
     "metadata": {},
     "output_type": "execute_result"
    }
   ],
   "source": [
    "agents_rd = dict(map(lambda agent: (agent, RandomAgent(game=game, agent=agent)), game.agents))\n",
    "agents_rd"
   ]
  },
  {
   "cell_type": "code",
   "execution_count": 4,
   "metadata": {},
   "outputs": [
    {
     "name": "stdout",
     "output_type": "stream",
     "text": [
      "Player: X\n",
      "Board:\n",
      " .  .  . \n",
      " .  .  . \n",
      " .  .  . \n",
      "\n",
      "0.0\n",
      "Player: O\n",
      "Board:\n",
      " .  .  . \n",
      " X  .  . \n",
      " .  .  . \n",
      "\n",
      "-0.25\n",
      "Player: X\n",
      "Board:\n",
      " O  .  . \n",
      " X  .  . \n",
      " .  .  . \n",
      "\n",
      "-0.125\n",
      "Player: O\n",
      "Board:\n",
      " O  .  . \n",
      " X  .  . \n",
      " X  .  . \n",
      "\n",
      "-0.125\n",
      "Player: X\n",
      "Board:\n",
      " O  .  O \n",
      " X  .  . \n",
      " X  .  . \n",
      "\n",
      "-0.125\n",
      "Player: O\n",
      "Board:\n",
      " O  .  O \n",
      " X  .  X \n",
      " X  .  . \n",
      "\n",
      "0.0\n",
      "Player: X\n",
      "Board:\n",
      " O  .  O \n",
      " X  .  X \n",
      " X  .  O \n",
      "\n",
      "-0.125\n",
      "Player: O\n",
      "Board:\n",
      " O  .  O \n",
      " X  X  X \n",
      " X  .  O \n",
      "\n",
      "-1\n",
      "{'X': 1, 'O': -1}\n"
     ]
    }
   ],
   "source": [
    "game.reset()\n",
    "while not game.terminated():\n",
    "    game.render()\n",
    "    print(game.eval(game.agent_selection))\n",
    "    action = agents_rd[game.agent_selection].action()\n",
    "    game.step(action)\n",
    "game.render()\n",
    "print(game.eval(game.agent_selection))\n",
    "print(game.rewards)"
   ]
  },
  {
   "cell_type": "code",
   "execution_count": 5,
   "metadata": {},
   "outputs": [],
   "source": [
    "players = {}\n",
    "players[game.agents[0]] = MiniMax(game=game, agent=game.agents[0], depth=1)\n",
    "players[game.agents[1]] = MiniMax(game=game, agent=game.agents[1], depth=4)\n"
   ]
  },
  {
   "cell_type": "code",
   "execution_count": 6,
   "metadata": {},
   "outputs": [
    {
     "name": "stdout",
     "output_type": "stream",
     "text": [
      "Player: X\n",
      "Board:\n",
      " .  .  . \n",
      " .  .  . \n",
      " .  .  . \n",
      "\n",
      "[[0 0 0]\n",
      " [0 0 0]\n",
      " [0 0 0]]\n",
      "4 0.5\n",
      "Player: O\n",
      "Board:\n",
      " .  .  . \n",
      " .  X  . \n",
      " .  .  . \n",
      "\n",
      "[[0 0 0]\n",
      " [0 2 0]\n",
      " [0 0 0]]\n",
      "0 -0.375\n",
      "Player: X\n",
      "Board:\n",
      " O  .  . \n",
      " .  X  . \n",
      " .  .  . \n",
      "\n"
     ]
    }
   ],
   "source": [
    "game.reset()\n",
    "game.render()\n",
    "print(game.observe(game.agents[0]))\n",
    "action, value = players[game.agent_selection].minimax(game, depth=1)\n",
    "print(action, value)\n",
    "game.step(action)\n",
    "game.render()\n",
    "print(game.observe(game.agents[1]))\n",
    "action, value = players[game.agent_selection].minimax(game, depth=4)\n",
    "game.step(action)\n",
    "print(action, value)\n",
    "game.render()\n"
   ]
  },
  {
   "cell_type": "code",
   "execution_count": 7,
   "metadata": {},
   "outputs": [
    {
     "name": "stdout",
     "output_type": "stream",
     "text": [
      "Agent X average reward: -0.5 over 10 games\n",
      "Agent X rewards: [0, 1, 1, -1, -1, -1, -1, -1, -1, -1]\n",
      "Agent O average reward: 0.5 over 10 games\n",
      "Agent O rewards: [0, -1, -1, 1, 1, 1, 1, 1, 1, 1]\n"
     ]
    }
   ],
   "source": [
    "values = defaultdict(list)\n",
    "N = 10\n",
    "for i in range(N):    \n",
    "    game.reset()\n",
    "    while not game.terminated():\n",
    "        agent = game.agent_selection\n",
    "        action = players[agent].action()\n",
    "        game.step(action)\n",
    "    for agent in game.agents:\n",
    "        values[agent].append(game.reward(agent))\n",
    "for agent in game.agents:\n",
    "    print(f\"Agent {agent} average reward: {np.mean(values[agent])} over {N} games\")\n",
    "    print(f\"Agent {agent} rewards: {values[agent]}\")"
   ]
  }
 ],
 "metadata": {
  "kernelspec": {
   "display_name": "pettingzoo_games",
   "language": "python",
   "name": "python3"
  },
  "language_info": {
   "codemirror_mode": {
    "name": "ipython",
    "version": 3
   },
   "file_extension": ".py",
   "mimetype": "text/x-python",
   "name": "python",
   "nbconvert_exporter": "python",
   "pygments_lexer": "ipython3",
   "version": "3.11.11"
  },
  "orig_nbformat": 4
 },
 "nbformat": 4,
 "nbformat_minor": 2
}
